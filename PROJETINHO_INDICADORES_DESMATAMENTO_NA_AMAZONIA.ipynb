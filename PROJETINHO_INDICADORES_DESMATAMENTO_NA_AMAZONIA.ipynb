{
 "cells": [
  {
   "cell_type": "code",
   "execution_count": null,
   "metadata": {},
   "outputs": [],
   "source": [
    "import numpy as np\n",
    "import pandas as pd\n",
    "arquivo = pd.read_csv(\"C:/Users/davi-/OneDrive/Documentos/Arquivos/Users/Materiais_Assuntos/Ciência de dados/projeto ciência de dados/def_area_2004_20191.csv\")\n",
    "arquivo.rename(columns={'1':'ANO_ESTADO','1.1':'AC','1.2':'AM','1.3':'AP','1.4':'MA','1.5':'MT','1.6':'PA','1.7':'RO','1.8':'RR','1.9':'TO','1.10':'AMZ_LEGAL'},inplace=True)\n",
    "conc = pd.DataFrame(arquivo)\n",
    "#Função\n",
    "def Medidas_Centralidade_Dispersao(coluna):\n",
    "        print(\"Área de desmatamento (km²) por ano e estado, de 2004 a 2019, para a coluna :\",coluna)\n",
    "        print(\"Média : \", arquivo[coluna].mean())\n",
    "        print(\"Mediana : \",arquivo[coluna].median())\n",
    "        print(\"Desvio Padrão : \",arquivo[coluna].std())\n",
    "        print(\"Variância : \",arquivo[coluna].var())\n",
    "        print(\"Moda :\\n\",arquivo[coluna].mode())\n",
    "        conc.boxplot(column=coluna)    "
   ]
  },
  {
   "cell_type": "code",
   "execution_count": 22,
   "metadata": {},
   "outputs": [
    {
     "data": {
      "text/html": [
       "<div>\n",
       "<style scoped>\n",
       "    .dataframe tbody tr th:only-of-type {\n",
       "        vertical-align: middle;\n",
       "    }\n",
       "\n",
       "    .dataframe tbody tr th {\n",
       "        vertical-align: top;\n",
       "    }\n",
       "\n",
       "    .dataframe thead th {\n",
       "        text-align: right;\n",
       "    }\n",
       "</style>\n",
       "<table border=\"1\" class=\"dataframe\">\n",
       "  <thead>\n",
       "    <tr style=\"text-align: right;\">\n",
       "      <th></th>\n",
       "      <th>ANO_ESTADO</th>\n",
       "      <th>AC</th>\n",
       "      <th>AM</th>\n",
       "      <th>AP</th>\n",
       "      <th>MA</th>\n",
       "      <th>MT</th>\n",
       "      <th>PA</th>\n",
       "      <th>RO</th>\n",
       "      <th>RR</th>\n",
       "      <th>TO</th>\n",
       "      <th>AMZ</th>\n",
       "    </tr>\n",
       "  </thead>\n",
       "  <tbody>\n",
       "    <tr>\n",
       "      <th>0</th>\n",
       "      <td>2004</td>\n",
       "      <td>728</td>\n",
       "      <td>1232</td>\n",
       "      <td>46</td>\n",
       "      <td>755</td>\n",
       "      <td>11814</td>\n",
       "      <td>8870</td>\n",
       "      <td>3858</td>\n",
       "      <td>311</td>\n",
       "      <td>158</td>\n",
       "      <td>27772</td>\n",
       "    </tr>\n",
       "    <tr>\n",
       "      <th>1</th>\n",
       "      <td>2005</td>\n",
       "      <td>592</td>\n",
       "      <td>775</td>\n",
       "      <td>33</td>\n",
       "      <td>922</td>\n",
       "      <td>7145</td>\n",
       "      <td>5899</td>\n",
       "      <td>3244</td>\n",
       "      <td>133</td>\n",
       "      <td>271</td>\n",
       "      <td>19014</td>\n",
       "    </tr>\n",
       "    <tr>\n",
       "      <th>2</th>\n",
       "      <td>2006</td>\n",
       "      <td>398</td>\n",
       "      <td>788</td>\n",
       "      <td>30</td>\n",
       "      <td>674</td>\n",
       "      <td>4333</td>\n",
       "      <td>5659</td>\n",
       "      <td>2049</td>\n",
       "      <td>231</td>\n",
       "      <td>124</td>\n",
       "      <td>14286</td>\n",
       "    </tr>\n",
       "    <tr>\n",
       "      <th>3</th>\n",
       "      <td>2007</td>\n",
       "      <td>184</td>\n",
       "      <td>610</td>\n",
       "      <td>39</td>\n",
       "      <td>631</td>\n",
       "      <td>2678</td>\n",
       "      <td>5526</td>\n",
       "      <td>1611</td>\n",
       "      <td>309</td>\n",
       "      <td>63</td>\n",
       "      <td>11651</td>\n",
       "    </tr>\n",
       "    <tr>\n",
       "      <th>4</th>\n",
       "      <td>2008</td>\n",
       "      <td>254</td>\n",
       "      <td>604</td>\n",
       "      <td>100</td>\n",
       "      <td>1271</td>\n",
       "      <td>3258</td>\n",
       "      <td>5607</td>\n",
       "      <td>1136</td>\n",
       "      <td>574</td>\n",
       "      <td>107</td>\n",
       "      <td>12911</td>\n",
       "    </tr>\n",
       "    <tr>\n",
       "      <th>5</th>\n",
       "      <td>2009</td>\n",
       "      <td>167</td>\n",
       "      <td>405</td>\n",
       "      <td>70</td>\n",
       "      <td>828</td>\n",
       "      <td>1049</td>\n",
       "      <td>4281</td>\n",
       "      <td>482</td>\n",
       "      <td>121</td>\n",
       "      <td>61</td>\n",
       "      <td>7464</td>\n",
       "    </tr>\n",
       "    <tr>\n",
       "      <th>6</th>\n",
       "      <td>2010</td>\n",
       "      <td>259</td>\n",
       "      <td>595</td>\n",
       "      <td>53</td>\n",
       "      <td>712</td>\n",
       "      <td>871</td>\n",
       "      <td>3770</td>\n",
       "      <td>435</td>\n",
       "      <td>256</td>\n",
       "      <td>49</td>\n",
       "      <td>7000</td>\n",
       "    </tr>\n",
       "    <tr>\n",
       "      <th>7</th>\n",
       "      <td>2011</td>\n",
       "      <td>280</td>\n",
       "      <td>502</td>\n",
       "      <td>66</td>\n",
       "      <td>396</td>\n",
       "      <td>1120</td>\n",
       "      <td>3008</td>\n",
       "      <td>865</td>\n",
       "      <td>141</td>\n",
       "      <td>40</td>\n",
       "      <td>6418</td>\n",
       "    </tr>\n",
       "    <tr>\n",
       "      <th>8</th>\n",
       "      <td>2012</td>\n",
       "      <td>305</td>\n",
       "      <td>523</td>\n",
       "      <td>27</td>\n",
       "      <td>269</td>\n",
       "      <td>757</td>\n",
       "      <td>1741</td>\n",
       "      <td>773</td>\n",
       "      <td>124</td>\n",
       "      <td>52</td>\n",
       "      <td>4571</td>\n",
       "    </tr>\n",
       "    <tr>\n",
       "      <th>9</th>\n",
       "      <td>2013</td>\n",
       "      <td>221</td>\n",
       "      <td>583</td>\n",
       "      <td>23</td>\n",
       "      <td>403</td>\n",
       "      <td>1139</td>\n",
       "      <td>2346</td>\n",
       "      <td>932</td>\n",
       "      <td>170</td>\n",
       "      <td>74</td>\n",
       "      <td>5891</td>\n",
       "    </tr>\n",
       "    <tr>\n",
       "      <th>10</th>\n",
       "      <td>2014</td>\n",
       "      <td>309</td>\n",
       "      <td>500</td>\n",
       "      <td>31</td>\n",
       "      <td>257</td>\n",
       "      <td>1075</td>\n",
       "      <td>1887</td>\n",
       "      <td>684</td>\n",
       "      <td>219</td>\n",
       "      <td>50</td>\n",
       "      <td>5012</td>\n",
       "    </tr>\n",
       "    <tr>\n",
       "      <th>11</th>\n",
       "      <td>2015</td>\n",
       "      <td>264</td>\n",
       "      <td>712</td>\n",
       "      <td>25</td>\n",
       "      <td>209</td>\n",
       "      <td>1601</td>\n",
       "      <td>2153</td>\n",
       "      <td>1030</td>\n",
       "      <td>156</td>\n",
       "      <td>57</td>\n",
       "      <td>6207</td>\n",
       "    </tr>\n",
       "    <tr>\n",
       "      <th>12</th>\n",
       "      <td>2016</td>\n",
       "      <td>372</td>\n",
       "      <td>1129</td>\n",
       "      <td>17</td>\n",
       "      <td>258</td>\n",
       "      <td>1489</td>\n",
       "      <td>2992</td>\n",
       "      <td>1376</td>\n",
       "      <td>202</td>\n",
       "      <td>58</td>\n",
       "      <td>7893</td>\n",
       "    </tr>\n",
       "    <tr>\n",
       "      <th>13</th>\n",
       "      <td>2017</td>\n",
       "      <td>257</td>\n",
       "      <td>1001</td>\n",
       "      <td>24</td>\n",
       "      <td>265</td>\n",
       "      <td>1561</td>\n",
       "      <td>2433</td>\n",
       "      <td>1243</td>\n",
       "      <td>132</td>\n",
       "      <td>31</td>\n",
       "      <td>6947</td>\n",
       "    </tr>\n",
       "    <tr>\n",
       "      <th>14</th>\n",
       "      <td>2018</td>\n",
       "      <td>444</td>\n",
       "      <td>1045</td>\n",
       "      <td>24</td>\n",
       "      <td>253</td>\n",
       "      <td>1490</td>\n",
       "      <td>2744</td>\n",
       "      <td>1316</td>\n",
       "      <td>195</td>\n",
       "      <td>25</td>\n",
       "      <td>7536</td>\n",
       "    </tr>\n",
       "    <tr>\n",
       "      <th>15</th>\n",
       "      <td>2019</td>\n",
       "      <td>688</td>\n",
       "      <td>1421</td>\n",
       "      <td>8</td>\n",
       "      <td>215</td>\n",
       "      <td>1685</td>\n",
       "      <td>3862</td>\n",
       "      <td>1245</td>\n",
       "      <td>617</td>\n",
       "      <td>21</td>\n",
       "      <td>9762</td>\n",
       "    </tr>\n",
       "  </tbody>\n",
       "</table>\n",
       "</div>"
      ],
      "text/plain": [
       "    ANO_ESTADO   AC    AM   AP    MA     MT    PA    RO   RR   TO    AMZ\n",
       "0         2004  728  1232   46   755  11814  8870  3858  311  158  27772\n",
       "1         2005  592   775   33   922   7145  5899  3244  133  271  19014\n",
       "2         2006  398   788   30   674   4333  5659  2049  231  124  14286\n",
       "3         2007  184   610   39   631   2678  5526  1611  309   63  11651\n",
       "4         2008  254   604  100  1271   3258  5607  1136  574  107  12911\n",
       "5         2009  167   405   70   828   1049  4281   482  121   61   7464\n",
       "6         2010  259   595   53   712    871  3770   435  256   49   7000\n",
       "7         2011  280   502   66   396   1120  3008   865  141   40   6418\n",
       "8         2012  305   523   27   269    757  1741   773  124   52   4571\n",
       "9         2013  221   583   23   403   1139  2346   932  170   74   5891\n",
       "10        2014  309   500   31   257   1075  1887   684  219   50   5012\n",
       "11        2015  264   712   25   209   1601  2153  1030  156   57   6207\n",
       "12        2016  372  1129   17   258   1489  2992  1376  202   58   7893\n",
       "13        2017  257  1001   24   265   1561  2433  1243  132   31   6947\n",
       "14        2018  444  1045   24   253   1490  2744  1316  195   25   7536\n",
       "15        2019  688  1421    8   215   1685  3862  1245  617   21   9762"
      ]
     },
     "execution_count": 22,
     "metadata": {},
     "output_type": "execute_result"
    }
   ],
   "source": [
    "arquivo.rename(columns={'1':'ANO_ESTADO','1.1':'AC','1.2':'AM','1.3':'AP','1.4':'MA','1.5':'MT','1.6':'PA','1.7':'RO','1.8':'RR','1.9':'TO','1.10':'AMZ_LEGAL'})\n"
   ]
  },
  {
   "cell_type": "code",
   "execution_count": 23,
   "metadata": {},
   "outputs": [
    {
     "name": "stdout",
     "output_type": "stream",
     "text": [
      "Área de desmatamento (km²) por ano e estado, de 2004 a 2019, para a coluna : ANO_ESTADO\n",
      "Média :  2011.5\n",
      "Mediana :  2011.5\n",
      "Desvio Padrão :  4.760952285695233\n",
      "Variância :  22.666666666666668\n",
      "Moda :\n",
      " 0     2004\n",
      "1     2005\n",
      "2     2006\n",
      "3     2007\n",
      "4     2008\n",
      "5     2009\n",
      "6     2010\n",
      "7     2011\n",
      "8     2012\n",
      "9     2013\n",
      "10    2014\n",
      "11    2015\n",
      "12    2016\n",
      "13    2017\n",
      "14    2018\n",
      "15    2019\n",
      "dtype: int64\n"
     ]
    },
    {
     "data": {
      "image/png": "[encoded data removed]",
      "text/plain": [
       "<Figure size 432x288 with 1 Axes>"
      ]
     },
     "metadata": {
      "needs_background": "light"
     },
     "output_type": "display_data"
    }
   ],
   "source": [
    "Medidas_Centralidade_Dispersao(\"ANO_ESTADO\")"
   ]
  },
  {
   "cell_type": "code",
   "execution_count": 24,
   "metadata": {},
   "outputs": [
    {
     "name": "stdout",
     "output_type": "stream",
     "text": [
      "Área de desmatamento (km²) por ano e estado, de 2004 a 2019, para a coluna : AC\n",
      "Média :  357.625\n",
      "Mediana :  292.5\n",
      "Desvio Padrão :  172.47603698291925\n",
      "Variância :  29747.983333333334\n",
      "Moda :\n",
      " 0     167\n",
      "1     184\n",
      "2     221\n",
      "3     254\n",
      "4     257\n",
      "5     259\n",
      "6     264\n",
      "7     280\n",
      "8     305\n",
      "9     309\n",
      "10    372\n",
      "11    398\n",
      "12    444\n",
      "13    592\n",
      "14    688\n",
      "15    728\n",
      "dtype: int64\n"
     ]
    },
    {
     "data": {
      "image/png": "[encoded data removed]",
      "text/plain": [
       "<Figure size 432x288 with 1 Axes>"
      ]
     },
     "metadata": {
      "needs_background": "light"
     },
     "output_type": "display_data"
    }
   ],
   "source": [
    "Medidas_Centralidade_Dispersao(\"AC\")"
   ]
  },
  {
   "cell_type": "code",
   "execution_count": 25,
   "metadata": {},
   "outputs": [
    {
     "name": "stdout",
     "output_type": "stream",
     "text": [
      "Área de desmatamento (km²) por ano e estado, de 2004 a 2019, para a coluna : AM\n",
      "Média :  776.5625\n",
      "Mediana :  661.0\n",
      "Desvio Padrão :  300.6486251978102\n",
      "Variância :  90389.59583333334\n",
      "Moda :\n",
      " 0      405\n",
      "1      500\n",
      "2      502\n",
      "3      523\n",
      "4      583\n",
      "5      595\n",
      "6      604\n",
      "7      610\n",
      "8      712\n",
      "9      775\n",
      "10     788\n",
      "11    1001\n",
      "12    1045\n",
      "13    1129\n",
      "14    1232\n",
      "15    1421\n",
      "dtype: int64\n"
     ]
    },
    {
     "data": {
      "image/png": "[encoded data removed]",
      "text/plain": [
       "<Figure size 432x288 with 1 Axes>"
      ]
     },
     "metadata": {
      "needs_background": "light"
     },
     "output_type": "display_data"
    }
   ],
   "source": [
    "Medidas_Centralidade_Dispersao(\"AM\")"
   ]
  },
  {
   "cell_type": "code",
   "execution_count": 26,
   "metadata": {},
   "outputs": [
    {
     "name": "stdout",
     "output_type": "stream",
     "text": [
      "Área de desmatamento (km²) por ano e estado, de 2004 a 2019, para a coluna : AP\n",
      "Média :  38.5\n",
      "Mediana :  30.5\n",
      "Desvio Padrão :  23.557023015086887\n",
      "Variância :  554.9333333333333\n",
      "Moda :\n",
      " 0    24\n",
      "dtype: int64\n"
     ]
    },
    {
     "data": {
      "image/png": "[encoded data removed]",
      "text/plain": [
       "<Figure size 432x288 with 1 Axes>"
      ]
     },
     "metadata": {
      "needs_background": "light"
     },
     "output_type": "display_data"
    }
   ],
   "source": [
    "Medidas_Centralidade_Dispersao(\"AP\")"
   ]
  },
  {
   "cell_type": "code",
   "execution_count": 27,
   "metadata": {},
   "outputs": [
    {
     "name": "stdout",
     "output_type": "stream",
     "text": [
      "Área de desmatamento (km²) por ano e estado, de 2004 a 2019, para a coluna : MA\n",
      "Média :  519.875\n",
      "Mediana :  399.5\n",
      "Desvio Padrão :  316.70530466034194\n",
      "Variância :  100302.25\n",
      "Moda :\n",
      " 0      209\n",
      "1      215\n",
      "2      253\n",
      "3      257\n",
      "4      258\n",
      "5      265\n",
      "6      269\n",
      "7      396\n",
      "8      403\n",
      "9      631\n",
      "10     674\n",
      "11     712\n",
      "12     755\n",
      "13     828\n",
      "14     922\n",
      "15    1271\n",
      "dtype: int64\n"
     ]
    },
    {
     "data": {
      "image/png": "[encoded data removed]",
      "text/plain": [
       "<Figure size 432x288 with 1 Axes>"
      ]
     },
     "metadata": {
      "needs_background": "light"
     },
     "output_type": "display_data"
    }
   ],
   "source": [
    "Medidas_Centralidade_Dispersao(\"MA\")"
   ]
  },
  {
   "cell_type": "code",
   "execution_count": 28,
   "metadata": {},
   "outputs": [
    {
     "name": "stdout",
     "output_type": "stream",
     "text": [
      "Área de desmatamento (km²) por ano e estado, de 2004 a 2019, para a coluna : MT\n",
      "Média :  2691.5625\n",
      "Mediana :  1525.5\n",
      "Desvio Padrão :  2940.367595358331\n",
      "Variância :  8645761.595833333\n",
      "Moda :\n",
      " 0       757\n",
      "1       871\n",
      "2      1049\n",
      "3      1075\n",
      "4      1120\n",
      "5      1139\n",
      "6      1489\n",
      "7      1490\n",
      "8      1561\n",
      "9      1601\n",
      "10     1685\n",
      "11     2678\n",
      "12     3258\n",
      "13     4333\n",
      "14     7145\n",
      "15    11814\n",
      "dtype: int64\n"
     ]
    },
    {
     "data": {
      "image/png": "[encoded data removed]",
      "text/plain": [
       "<Figure size 432x288 with 1 Axes>"
      ]
     },
     "metadata": {
      "needs_background": "light"
     },
     "output_type": "display_data"
    }
   ],
   "source": [
    "Medidas_Centralidade_Dispersao(\"MT\")"
   ]
  },
  {
   "cell_type": "code",
   "execution_count": 29,
   "metadata": {},
   "outputs": [
    {
     "name": "stdout",
     "output_type": "stream",
     "text": [
      "Área de desmatamento (km²) por ano e estado, de 2004 a 2019, para a coluna : PA\n",
      "Média :  3923.625\n",
      "Mediana :  3389.0\n",
      "Desvio Padrão :  1945.8024865506434\n",
      "Variância :  3786147.316666667\n",
      "Moda :\n",
      " 0     1741\n",
      "1     1887\n",
      "2     2153\n",
      "3     2346\n",
      "4     2433\n",
      "5     2744\n",
      "6     2992\n",
      "7     3008\n",
      "8     3770\n",
      "9     3862\n",
      "10    4281\n",
      "11    5526\n",
      "12    5607\n",
      "13    5659\n",
      "14    5899\n",
      "15    8870\n",
      "dtype: int64\n"
     ]
    },
    {
     "data": {
      "image/png": "[encoded data removed]",
      "text/plain": [
       "<Figure size 432x288 with 1 Axes>"
      ]
     },
     "metadata": {
      "needs_background": "light"
     },
     "output_type": "display_data"
    }
   ],
   "source": [
    "Medidas_Centralidade_Dispersao(\"PA\")"
   ]
  },
  {
   "cell_type": "code",
   "execution_count": 30,
   "metadata": {},
   "outputs": [
    {
     "name": "stdout",
     "output_type": "stream",
     "text": [
      "Área de desmatamento (km²) por ano e estado, de 2004 a 2019, para a coluna : RO\n",
      "Média :  1392.4375\n",
      "Mediana :  1189.5\n",
      "Desvio Padrão :  943.5674128010145\n",
      "Variância :  890319.4625\n",
      "Moda :\n",
      " 0      435\n",
      "1      482\n",
      "2      684\n",
      "3      773\n",
      "4      865\n",
      "5      932\n",
      "6     1030\n",
      "7     1136\n",
      "8     1243\n",
      "9     1245\n",
      "10    1316\n",
      "11    1376\n",
      "12    1611\n",
      "13    2049\n",
      "14    3244\n",
      "15    3858\n",
      "dtype: int64\n"
     ]
    },
    {
     "data": {
      "image/png": "[encoded data removed]",
      "text/plain": [
       "<Figure size 432x288 with 1 Axes>"
      ]
     },
     "metadata": {
      "needs_background": "light"
     },
     "output_type": "display_data"
    }
   ],
   "source": [
    "Medidas_Centralidade_Dispersao(\"RO\")"
   ]
  },
  {
   "cell_type": "code",
   "execution_count": 31,
   "metadata": {},
   "outputs": [
    {
     "name": "stdout",
     "output_type": "stream",
     "text": [
      "Área de desmatamento (km²) por ano e estado, de 2004 a 2019, para a coluna : RR\n",
      "Média :  243.1875\n",
      "Mediana :  198.5\n",
      "Desvio Padrão :  150.56746826589068\n",
      "Variância :  22670.5625\n",
      "Moda :\n",
      " 0     121\n",
      "1     124\n",
      "2     132\n",
      "3     133\n",
      "4     141\n",
      "5     156\n",
      "6     170\n",
      "7     195\n",
      "8     202\n",
      "9     219\n",
      "10    231\n",
      "11    256\n",
      "12    309\n",
      "13    311\n",
      "14    574\n",
      "15    617\n",
      "dtype: int64\n"
     ]
    },
    {
     "data": {
      "image/png": "[encoded data removed]",
      "text/plain": [
       "<Figure size 432x288 with 1 Axes>"
      ]
     },
     "metadata": {
      "needs_background": "light"
     },
     "output_type": "display_data"
    }
   ],
   "source": [
    "Medidas_Centralidade_Dispersao(\"RR\")"
   ]
  },
  {
   "cell_type": "code",
   "execution_count": 32,
   "metadata": {},
   "outputs": [
    {
     "name": "stdout",
     "output_type": "stream",
     "text": [
      "Área de desmatamento (km²) por ano e estado, de 2004 a 2019, para a coluna : TO\n",
      "Média :  77.5625\n",
      "Mediana :  57.5\n",
      "Desvio Padrão :  63.238141180777916\n",
      "Variância :  3999.0625\n",
      "Moda :\n",
      " 0      21\n",
      "1      25\n",
      "2      31\n",
      "3      40\n",
      "4      49\n",
      "5      50\n",
      "6      52\n",
      "7      57\n",
      "8      58\n",
      "9      61\n",
      "10     63\n",
      "11     74\n",
      "12    107\n",
      "13    124\n",
      "14    158\n",
      "15    271\n",
      "dtype: int64\n"
     ]
    },
    {
     "data": {
      "image/png": "[encoded data removed]",
      "text/plain": [
       "<Figure size 432x288 with 1 Axes>"
      ]
     },
     "metadata": {
      "needs_background": "light"
     },
     "output_type": "display_data"
    }
   ],
   "source": [
    "Medidas_Centralidade_Dispersao(\"TO\")"
   ]
  },
  {
   "cell_type": "code",
   "execution_count": 33,
   "metadata": {},
   "outputs": [
    {
     "name": "stdout",
     "output_type": "stream",
     "text": [
      "Área de desmatamento (km²) por ano e estado, de 2004 a 2019, para a coluna : AMZ\n",
      "Média :  10020.9375\n",
      "Mediana :  7500.0\n",
      "Desvio Padrão :  6112.467133858471\n",
      "Variância :  37362254.4625\n",
      "Moda :\n",
      " 0      4571\n",
      "1      5012\n",
      "2      5891\n",
      "3      6207\n",
      "4      6418\n",
      "5      6947\n",
      "6      7000\n",
      "7      7464\n",
      "8      7536\n",
      "9      7893\n",
      "10     9762\n",
      "11    11651\n",
      "12    12911\n",
      "13    14286\n",
      "14    19014\n",
      "15    27772\n",
      "dtype: int64\n"
     ]
    },
    {
     "data": {
      "image/png": "[encoded data removed]",
      "text/plain": [
       "<Figure size 432x288 with 1 Axes>"
      ]
     },
     "metadata": {
      "needs_background": "light"
     },
     "output_type": "display_data"
    }
   ],
   "source": [
    "Medidas_Centralidade_Dispersao(\"AMZ\")"
   ]
  },
  {
   "cell_type": "code",
   "execution_count": 34,
   "metadata": {},
   "outputs": [
    {
     "data": {
      "text/plain": [
       "<matplotlib.axes._subplots.AxesSubplot at 0x1df8504c348>"
      ]
     },
     "execution_count": 34,
     "metadata": {},
     "output_type": "execute_result"
    },
    {
     "data": {
      "image/png": "[encoded data removed]",
      "text/plain": [
       "<Figure size 432x288 with 1 Axes>"
      ]
     },
     "metadata": {
      "needs_background": "light"
     },
     "output_type": "display_data"
    }
   ],
   "source": [
    "conc.boxplot()"
   ]
  },
  {
   "cell_type": "code",
   "execution_count": null,
   "metadata": {},
   "outputs": [],
   "source": []
  }
 ],
 "metadata": {
  "kernelspec": {
   "display_name": "Python 3",
   "language": "python",
   "name": "python3"
  },
  "language_info": {
   "codemirror_mode": {
    "name": "ipython",
    "version": 3
   },
   "file_extension": ".py",
   "mimetype": "text/x-python",
   "name": "python",
   "nbconvert_exporter": "python",
   "pygments_lexer": "ipython3",
   "version": "3.7.6"
  }
 },
 "nbformat": 4,
 "nbformat_minor": 4
}
